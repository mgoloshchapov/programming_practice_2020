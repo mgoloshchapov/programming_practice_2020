{
 "cells": [
  {
   "cell_type": "markdown",
   "metadata": {},
   "source": [
    "## Элементы ООП"
   ]
  },
  {
   "cell_type": "markdown",
   "metadata": {},
   "source": [
    "- Способ обьединить данные и методы работы с ними за единой абстракцией\n",
    "- Объекты которые порождают другие обьекты при вызове\n",
    "- Модель объекта\n",
    "- Способ самостоятельно создавать типы\n",
    "\n",
    "Объекты - Экземпляры классов:\n",
    "    int – класс ; 1, 2, 3 – объекты этого класса"
   ]
  },
  {
   "cell_type": "code",
   "execution_count": 5,
   "metadata": {},
   "outputs": [],
   "source": [
    "class A(object):\n",
    "    pass"
   ]
  },
  {
   "cell_type": "code",
   "execution_count": 8,
   "metadata": {},
   "outputs": [
    {
     "data": {
      "text/plain": [
       "type"
      ]
     },
     "execution_count": 8,
     "metadata": {},
     "output_type": "execute_result"
    }
   ],
   "source": [
    "type(object)"
   ]
  },
  {
   "cell_type": "code",
   "execution_count": 15,
   "metadata": {},
   "outputs": [],
   "source": [
    "class Bird(object):\n",
    "    kind = \"chickadee\"\n",
    "    lengh = 1\n",
    "\n",
    "bird = Bird()"
   ]
  },
  {
   "cell_type": "code",
   "execution_count": 11,
   "metadata": {},
   "outputs": [
    {
     "data": {
      "text/plain": [
       "0"
      ]
     },
     "execution_count": 11,
     "metadata": {},
     "output_type": "execute_result"
    }
   ],
   "source": [
    "a = int()\n",
    "a"
   ]
  },
  {
   "cell_type": "code",
   "execution_count": 21,
   "metadata": {},
   "outputs": [
    {
     "data": {
      "text/plain": [
       "1"
      ]
     },
     "execution_count": 21,
     "metadata": {},
     "output_type": "execute_result"
    }
   ],
   "source": [
    "bird.lengh"
   ]
  },
  {
   "cell_type": "code",
   "execution_count": 19,
   "metadata": {},
   "outputs": [
    {
     "data": {
      "text/plain": [
       "'chickadee'"
      ]
     },
     "execution_count": 19,
     "metadata": {},
     "output_type": "execute_result"
    }
   ],
   "source": [
    "Bird.kind"
   ]
  },
  {
   "cell_type": "code",
   "execution_count": 22,
   "metadata": {},
   "outputs": [
    {
     "data": {
      "text/plain": [
       "'red'"
      ]
     },
     "execution_count": 22,
     "metadata": {},
     "output_type": "execute_result"
    }
   ],
   "source": [
    "bird.color = 'red'\n",
    "bird.color"
   ]
  },
  {
   "cell_type": "code",
   "execution_count": 25,
   "metadata": {},
   "outputs": [
    {
     "data": {
      "text/plain": [
       "(type, __main__.Bird)"
      ]
     },
     "execution_count": 25,
     "metadata": {},
     "output_type": "execute_result"
    }
   ],
   "source": [
    "type(Bird), type(bird)"
   ]
  },
  {
   "cell_type": "code",
   "execution_count": 41,
   "metadata": {},
   "outputs": [],
   "source": [
    "class Bird(object):\n",
    "    def tweet(self):\n",
    "        print('Pew pew pew')\n",
    "        \n",
    "b = Bird()"
   ]
  },
  {
   "cell_type": "code",
   "execution_count": 32,
   "metadata": {},
   "outputs": [
    {
     "name": "stdout",
     "output_type": "stream",
     "text": [
      "Pew pew pew\n"
     ]
    }
   ],
   "source": [
    "b.tweet()"
   ]
  },
  {
   "cell_type": "code",
   "execution_count": 43,
   "metadata": {},
   "outputs": [
    {
     "name": "stdout",
     "output_type": "stream",
     "text": [
      "Pew pew pew\n"
     ]
    }
   ],
   "source": [
    "Bird.tweet(b)"
   ]
  },
  {
   "cell_type": "code",
   "execution_count": 44,
   "metadata": {},
   "outputs": [
    {
     "name": "stdout",
     "output_type": "stream",
     "text": [
      "Pew pew pew\n"
     ]
    }
   ],
   "source": [
    "b.tweet()"
   ]
  },
  {
   "cell_type": "code",
   "execution_count": 46,
   "metadata": {},
   "outputs": [
    {
     "data": {
      "text/plain": [
       "<function __main__.Bird.tweet(self)>"
      ]
     },
     "execution_count": 46,
     "metadata": {},
     "output_type": "execute_result"
    }
   ],
   "source": [
    "Bird.tweet"
   ]
  },
  {
   "cell_type": "code",
   "execution_count": 47,
   "metadata": {},
   "outputs": [
    {
     "data": {
      "text/plain": [
       "<bound method Bird.tweet of <__main__.Bird object at 0x7fe9fe557e80>>"
      ]
     },
     "execution_count": 47,
     "metadata": {},
     "output_type": "execute_result"
    }
   ],
   "source": [
    "b.tweet # связанный метод"
   ]
  },
  {
   "cell_type": "code",
   "execution_count": 72,
   "metadata": {},
   "outputs": [],
   "source": [
    "class Bird(object):\n",
    "    tweet_count = 0  # class atribute\n",
    "    \n",
    "    def tweet(self):\n",
    "        print(\"Tweet! It's {} tweet today!\".format(self.tweet_count))\n",
    "        self.tweet_count += 1\n",
    "        \n",
    "b = Bird()\n",
    "a = Bird()"
   ]
  },
  {
   "cell_type": "code",
   "execution_count": 90,
   "metadata": {},
   "outputs": [],
   "source": [
    "class A(object):\n",
    "    pass"
   ]
  },
  {
   "cell_type": "code",
   "execution_count": 92,
   "metadata": {},
   "outputs": [],
   "source": [
    "a = A()\n",
    "\n",
    "a.smth = 'sdklsajdkjsad'"
   ]
  },
  {
   "cell_type": "code",
   "execution_count": 95,
   "metadata": {},
   "outputs": [
    {
     "ename": "AttributeError",
     "evalue": "'int' object has no attribute 'smth'",
     "output_type": "error",
     "traceback": [
      "\u001b[0;31m---------------------------------------------------------------------------\u001b[0m",
      "\u001b[0;31mAttributeError\u001b[0m                            Traceback (most recent call last)",
      "\u001b[0;32m<ipython-input-95-780b72219f89>\u001b[0m in \u001b[0;36m<module>\u001b[0;34m\u001b[0m\n\u001b[1;32m      1\u001b[0m \u001b[0ma\u001b[0m \u001b[0;34m=\u001b[0m \u001b[0mint\u001b[0m\u001b[0;34m(\u001b[0m\u001b[0;34m)\u001b[0m\u001b[0;34m\u001b[0m\u001b[0;34m\u001b[0m\u001b[0m\n\u001b[0;32m----> 2\u001b[0;31m \u001b[0ma\u001b[0m\u001b[0;34m.\u001b[0m\u001b[0msmth\u001b[0m \u001b[0;34m=\u001b[0m \u001b[0;34m'sdksdds'\u001b[0m\u001b[0;34m\u001b[0m\u001b[0;34m\u001b[0m\u001b[0m\n\u001b[0m",
      "\u001b[0;31mAttributeError\u001b[0m: 'int' object has no attribute 'smth'"
     ]
    }
   ],
   "source": [
    "a = int()\n",
    "a.smth = 'sdksdds'"
   ]
  },
  {
   "cell_type": "code",
   "execution_count": 89,
   "metadata": {},
   "outputs": [
    {
     "name": "stdout",
     "output_type": "stream",
     "text": [
      "Tweet! It's 13 tweet today!\n"
     ]
    }
   ],
   "source": [
    "b.tweet()"
   ]
  },
  {
   "cell_type": "code",
   "execution_count": 77,
   "metadata": {},
   "outputs": [
    {
     "data": {
      "text/plain": [
       "0"
      ]
     },
     "execution_count": 77,
     "metadata": {},
     "output_type": "execute_result"
    }
   ],
   "source": [
    "a.tweet_count"
   ]
  },
  {
   "cell_type": "code",
   "execution_count": 103,
   "metadata": {},
   "outputs": [
    {
     "name": "stdout",
     "output_type": "stream",
     "text": [
      "8\n"
     ]
    }
   ],
   "source": [
    "a.custom_sum(3, 5)"
   ]
  },
  {
   "cell_type": "code",
   "execution_count": 112,
   "metadata": {},
   "outputs": [
    {
     "name": "stdout",
     "output_type": "stream",
     "text": [
      "['Joe']\n",
      "['Joe']\n",
      "['Bill']\n",
      "['Joe', 'Bill']\n"
     ]
    }
   ],
   "source": [
    "class CustomerList(object):\n",
    "    names = []\n",
    "    def add_customer(self, customer):\n",
    "        self.names = []\n",
    "        self.names.append(customer)\n",
    "        CustomerList.names.append(customer)\n",
    "        print(self.names)\n",
    "        print(CustomerList.names)\n",
    "\n",
    "a, b = CustomerList(), CustomerList()\n",
    "a.add_customer('Joe')\n",
    "b.add_customer('Bill')"
   ]
  },
  {
   "cell_type": "code",
   "execution_count": 113,
   "metadata": {},
   "outputs": [
    {
     "data": {
      "text/plain": [
       "['Joe', 'Bill']"
      ]
     },
     "execution_count": 113,
     "metadata": {},
     "output_type": "execute_result"
    }
   ],
   "source": [
    "CustomerList.names"
   ]
  },
  {
   "cell_type": "code",
   "execution_count": 118,
   "metadata": {},
   "outputs": [
    {
     "name": "stdout",
     "output_type": "stream",
     "text": [
      "['Joe']\n",
      "['Bill']\n"
     ]
    }
   ],
   "source": [
    "class CustomerList(object):\n",
    "    def __init__(self):\n",
    "        self.names = []  # object atributes\n",
    "\n",
    "    def add_customer(self, customer):\n",
    "        self.names.append(customer)\n",
    "        print(self.names)\n",
    "\n",
    "a, b = CustomerList(), CustomerList()\n",
    "a.add_customer('Joe')\n",
    "b.add_customer('Bill')"
   ]
  },
  {
   "cell_type": "code",
   "execution_count": 140,
   "metadata": {},
   "outputs": [
    {
     "data": {
      "text/plain": [
       "90"
      ]
     },
     "execution_count": 140,
     "metadata": {},
     "output_type": "execute_result"
    }
   ],
   "source": [
    "class Customer(object):\n",
    "    def __init__(self, name='Ivanov Ivan', balance=0):\n",
    "        self.name = name\n",
    "        self._balance = balance\n",
    "        \n",
    "    def withdraw(self, amount):\n",
    "        if amount < self._balance:\n",
    "            self._balance -= amount\n",
    "            return self._balance\n",
    "\n",
    "    def deposit(self, amount):\n",
    "        self._balance += amount\n",
    "        return self._balance\n",
    "\n",
    "c = Customer('Danny', 100)\n",
    "c.withdraw(10)"
   ]
  },
  {
   "cell_type": "code",
   "execution_count": 150,
   "metadata": {},
   "outputs": [
    {
     "name": "stdout",
     "output_type": "stream",
     "text": [
      "Nothing\n",
      "pure nothingness \n",
      "__main__\n"
     ]
    }
   ],
   "source": [
    "class Nothing(object):\n",
    "    \n",
    "    \"\"\"pure nothingness \"\"\"\n",
    "    \n",
    "    pass\n",
    "\n",
    "print(Nothing.__name__)\n",
    "print(Nothing.__doc__)\n",
    "print(Nothing.__module__)"
   ]
  },
  {
   "cell_type": "code",
   "execution_count": 151,
   "metadata": {},
   "outputs": [
    {
     "data": {
      "text/plain": [
       "['__class__',\n",
       " '__delattr__',\n",
       " '__dict__',\n",
       " '__dir__',\n",
       " '__doc__',\n",
       " '__eq__',\n",
       " '__format__',\n",
       " '__ge__',\n",
       " '__getattribute__',\n",
       " '__gt__',\n",
       " '__hash__',\n",
       " '__init__',\n",
       " '__init_subclass__',\n",
       " '__le__',\n",
       " '__lt__',\n",
       " '__module__',\n",
       " '__ne__',\n",
       " '__new__',\n",
       " '__reduce__',\n",
       " '__reduce_ex__',\n",
       " '__repr__',\n",
       " '__setattr__',\n",
       " '__sizeof__',\n",
       " '__str__',\n",
       " '__subclasshook__',\n",
       " '__weakref__']"
      ]
     },
     "execution_count": 151,
     "metadata": {},
     "output_type": "execute_result"
    }
   ],
   "source": [
    "dir(Nothing)"
   ]
  },
  {
   "cell_type": "code",
   "execution_count": 152,
   "metadata": {},
   "outputs": [
    {
     "data": {
      "text/plain": [
       "mappingproxy({'__module__': '__main__',\n",
       "              '__doc__': 'pure nothingness ',\n",
       "              '__dict__': <attribute '__dict__' of 'Nothing' objects>,\n",
       "              '__weakref__': <attribute '__weakref__' of 'Nothing' objects>})"
      ]
     },
     "execution_count": 152,
     "metadata": {},
     "output_type": "execute_result"
    }
   ],
   "source": [
    "Nothing.__dict__"
   ]
  },
  {
   "cell_type": "code",
   "execution_count": 153,
   "metadata": {},
   "outputs": [
    {
     "data": {
      "text/plain": [
       "type"
      ]
     },
     "execution_count": 153,
     "metadata": {},
     "output_type": "execute_result"
    }
   ],
   "source": [
    "Nothing.__class__"
   ]
  },
  {
   "cell_type": "code",
   "execution_count": 155,
   "metadata": {},
   "outputs": [
    {
     "name": "stdout",
     "output_type": "stream",
     "text": [
      "{'__module__': '__main__', 'classvar': 'Hi!', '__init__': <function TestDict.__init__ at 0x7fe9fe554620>, '__dict__': <attribute '__dict__' of 'TestDict' objects>, '__weakref__': <attribute '__weakref__' of 'TestDict' objects>, '__doc__': None}\n",
      "Hi!\n",
      "{'objectvar': 42}\n"
     ]
    }
   ],
   "source": [
    "class TestDict(object):\n",
    "    classvar = 'Hi!'\n",
    "    def __init__(self):\n",
    "        self.objectvar = 42\n",
    "\n",
    "t = TestDict()\n",
    "print(TestDict.__dict__)\n",
    "print(TestDict.__dict__['classvar'])\n",
    "print(t.__dict__)"
   ]
  },
  {
   "cell_type": "code",
   "execution_count": 159,
   "metadata": {},
   "outputs": [
    {
     "data": {
      "text/plain": [
       "{'names': ['sdsd']}"
      ]
     },
     "execution_count": 159,
     "metadata": {},
     "output_type": "execute_result"
    }
   ],
   "source": [
    "t.__dict__"
   ]
  },
  {
   "cell_type": "code",
   "execution_count": 156,
   "metadata": {},
   "outputs": [],
   "source": [
    "class Test(object):\n",
    "    pass"
   ]
  },
  {
   "cell_type": "code",
   "execution_count": 157,
   "metadata": {},
   "outputs": [],
   "source": [
    "t = Test()\n",
    "t.names = ['sdsd']"
   ]
  },
  {
   "cell_type": "code",
   "execution_count": 164,
   "metadata": {},
   "outputs": [
    {
     "ename": "AttributeError",
     "evalue": "'int' object has no attribute 'names'",
     "output_type": "error",
     "traceback": [
      "\u001b[0;31m---------------------------------------------------------------------------\u001b[0m",
      "\u001b[0;31mAttributeError\u001b[0m                            Traceback (most recent call last)",
      "\u001b[0;32m<ipython-input-164-89cff4c8e4c4>\u001b[0m in \u001b[0;36m<module>\u001b[0;34m\u001b[0m\n\u001b[1;32m      1\u001b[0m \u001b[0ma\u001b[0m \u001b[0;34m=\u001b[0m \u001b[0mint\u001b[0m\u001b[0;34m(\u001b[0m\u001b[0;34m)\u001b[0m\u001b[0;34m\u001b[0m\u001b[0;34m\u001b[0m\u001b[0m\n\u001b[0;32m----> 2\u001b[0;31m \u001b[0ma\u001b[0m\u001b[0;34m.\u001b[0m\u001b[0mnames\u001b[0m \u001b[0;34m=\u001b[0m \u001b[0;34m[\u001b[0m\u001b[0;34m'sdsd'\u001b[0m\u001b[0;34m]\u001b[0m\u001b[0;34m\u001b[0m\u001b[0;34m\u001b[0m\u001b[0m\n\u001b[0m",
      "\u001b[0;31mAttributeError\u001b[0m: 'int' object has no attribute 'names'"
     ]
    }
   ],
   "source": [
    "a = int()\n",
    "a.names = ['sdsd']"
   ]
  },
  {
   "cell_type": "code",
   "execution_count": 163,
   "metadata": {},
   "outputs": [],
   "source": [
    "class TestSlots(object):\n",
    "    __slots__ = ['a', 'b'] # фиксация возможных полей\n",
    "    def __init__(self):\n",
    "        self.a = 1\n",
    "        self.b = 42\n",
    "\n",
    "t = TestSlots()"
   ]
  },
  {
   "cell_type": "code",
   "execution_count": 169,
   "metadata": {},
   "outputs": [],
   "source": [
    "class Car(object):\n",
    "    def __init__(self, miles, model):\n",
    "        self.wheels = 4\n",
    "        self.miles = miles\n",
    "        self.model = model\n",
    "\n",
    "    def price(self):\n",
    "        return 6000 - (.10 * self.miles)\n",
    "\n",
    "    \n",
    "ford = Car(10000, 'Ford')\n",
    "toyota = Car(5000, 'Toyota')"
   ]
  },
  {
   "cell_type": "code",
   "execution_count": null,
   "metadata": {},
   "outputs": [],
   "source": [
    "class Car(object):\n",
    "    def __init__(self, miles, model):\n",
    "        self.wheels = 4\n",
    "        self.miles = miles\n",
    "        self.model = model\n",
    "\n",
    "    def price(self):\n",
    "        return 6000 - (.10 * self.miles)\n",
    "\n",
    "    \n",
    "class Truck(object):\n",
    "    def __init__(self, wheels, miles, model):\n",
    "        self.wheels = wheels\n",
    "        self.miles = miles\n",
    "        self.model = model\n",
    "        \n",
    "    def price(self):\n",
    "        return 10000 - (.10 * self.miles)"
   ]
  },
  {
   "cell_type": "code",
   "execution_count": 172,
   "metadata": {},
   "outputs": [],
   "source": [
    "class Vehicle(object):\n",
    "    def __init__(self, wheels, miles, model, base_price):\n",
    "        self.wheels = wheels\n",
    "        self.miles = miles\n",
    "        self.model = model\n",
    "        self.base_price = base_price\n",
    "    \n",
    "    def price(self):\n",
    "        return self.base_price - (.10 * self.miles)\n",
    "    \n",
    "Ford = Vehicle(4, 10000, 'Ford', 6000)\n",
    "truck = Vehicle(8, 20000, 'Track', 20000)"
   ]
  },
  {
   "cell_type": "code",
   "execution_count": 182,
   "metadata": {},
   "outputs": [],
   "source": [
    "# наследование 1\n",
    "\n",
    "class Vehicle(object):\n",
    "    def __init__(self, wheels, miles, model, base_price):\n",
    "        self.wheels = wheels\n",
    "        self.miles = miles\n",
    "        self.model = model\n",
    "        self.base_price = base_price\n",
    "    \n",
    "    def price(self):\n",
    "        return self.base_price - (0.10 * self.miles)\n",
    "\n",
    "class Car(Vehicle):\n",
    "    def __init__(self, miles, model):\n",
    "        self.wheels = 4\n",
    "        self.miles = miles\n",
    "        self.model = model\n",
    "        self.base_price = 10000\n",
    "\n",
    "c = Car(5, 'Tesla')"
   ]
  },
  {
   "cell_type": "code",
   "execution_count": 183,
   "metadata": {},
   "outputs": [
    {
     "data": {
      "text/plain": [
       "9999.5"
      ]
     },
     "execution_count": 183,
     "metadata": {},
     "output_type": "execute_result"
    }
   ],
   "source": [
    "c.price()"
   ]
  },
  {
   "cell_type": "code",
   "execution_count": 184,
   "metadata": {},
   "outputs": [],
   "source": [
    "# наследованиие 2\n",
    "\n",
    "class Vehicle(object):\n",
    "    def __init__(self, wheels, miles, model, base_price):\n",
    "        self.wheels = wheels\n",
    "        self.miles = miles\n",
    "        self.model = model\n",
    "        self.base_price = base_price\n",
    "    \n",
    "    def price(self):\n",
    "        return self.base_price - (.10 * self.miles)\n",
    "\n",
    "class Car(Vehicle):\n",
    "    def __init__(self, miles, model):\n",
    "        Vehicle.__init__(self, 4, miles, model, 10000)\n",
    "\n",
    "c = Car(5, 'Tesla')"
   ]
  },
  {
   "cell_type": "code",
   "execution_count": null,
   "metadata": {},
   "outputs": [],
   "source": [
    "# наследование 3\n",
    "\n",
    "class Vehicle(object):\n",
    "    base_price = 0\n",
    "    def __init__(self, wheels, miles, model):\n",
    "        self.wheels = wheels\n",
    "        self.miles = miles\n",
    "        self.model = model\n",
    "    \n",
    "    def price(self):\n",
    "        return self.base_price - (.10 * self.miles)\n",
    "\n",
    "class Car(Vehicle):\n",
    "    base_price = 6000\n",
    "    def __init__(self, miles, model):\n",
    "        Vehicle.__init__(self, 4, miles, model)\n",
    "\n",
    "class Truck(Vehicle):\n",
    "    base_price = 10000\n",
    "\n",
    "\n",
    "c = Car(5000, 'Tesla')\n",
    "c = Truck(8, 1000, 'Otto')"
   ]
  },
  {
   "cell_type": "code",
   "execution_count": null,
   "metadata": {},
   "outputs": [],
   "source": [
    "class Car(Venicle, IlonMask)"
   ]
  },
  {
   "cell_type": "code",
   "execution_count": 186,
   "metadata": {},
   "outputs": [
    {
     "data": {
      "text/plain": [
       "[__main__.Car, __main__.Vehicle, object]"
      ]
     },
     "execution_count": 186,
     "metadata": {},
     "output_type": "execute_result"
    }
   ],
   "source": [
    "Car.mro()"
   ]
  },
  {
   "cell_type": "code",
   "execution_count": 185,
   "metadata": {},
   "outputs": [
    {
     "data": {
      "text/plain": [
       "[__main__.A, object]"
      ]
     },
     "execution_count": 185,
     "metadata": {},
     "output_type": "execute_result"
    }
   ],
   "source": [
    "# Method resolution order описание алгоритма https://en.wikipedia.org/wiki/C3_linearization\n",
    "\n",
    "class A(object):\n",
    "    pass\n",
    "\n",
    "A.mro()"
   ]
  },
  {
   "cell_type": "code",
   "execution_count": 198,
   "metadata": {},
   "outputs": [
    {
     "name": "stdout",
     "output_type": "stream",
     "text": [
      "Mammal::Init\n",
      "Animal::Init\n"
     ]
    }
   ],
   "source": [
    "class Animal(object):\n",
    "    def __init__(self):\n",
    "        print('Animal::Init')\n",
    "        self.legs = 0\n",
    "\n",
    "class Mammal(Animal):\n",
    "    def __init__(self):\n",
    "        print('Mammal::Init')\n",
    "        Animal.__init__(self)\n",
    "        self.legs = 4\n",
    "\n",
    "class Swimming(Animal):\n",
    "    def __init__(self):\n",
    "        print('Swimming::Init')\n",
    "        print(self.legs)\n",
    "        Animal.__init__(self)\n",
    "        self.can_swim = True\n",
    "\n",
    "class Platypus(Mammal, Swimming):\n",
    "    pass\n",
    "        \n",
    "        \n",
    "Joe = Platypus()"
   ]
  },
  {
   "cell_type": "code",
   "execution_count": 202,
   "metadata": {},
   "outputs": [
    {
     "data": {
      "text/plain": [
       "[__main__.Platypus,\n",
       " __main__.Mammal,\n",
       " __main__.Swimming,\n",
       " __main__.Animal,\n",
       " object]"
      ]
     },
     "execution_count": 202,
     "metadata": {},
     "output_type": "execute_result"
    }
   ],
   "source": [
    "Platypus.mro()"
   ]
  },
  {
   "cell_type": "code",
   "execution_count": 203,
   "metadata": {},
   "outputs": [
    {
     "name": "stdout",
     "output_type": "stream",
     "text": [
      "Platypus::Init\n",
      "Mammal::Init\n",
      "Swimming::Init\n",
      "Animal::Init\n"
     ]
    },
    {
     "data": {
      "text/plain": [
       "4"
      ]
     },
     "execution_count": 203,
     "metadata": {},
     "output_type": "execute_result"
    }
   ],
   "source": [
    "class Animal(object):\n",
    "    def __init__(self):\n",
    "        print('Animal::Init')\n",
    "        self.legs = 0\n",
    "        \n",
    "class Mammal(Animal):\n",
    "    def __init__(self):\n",
    "        print('Mammal::Init')\n",
    "        super().__init__()\n",
    "        self.legs = 4\n",
    "\n",
    "        \n",
    "class Swimming(Animal):\n",
    "    def __init__(self):\n",
    "        print('Swimming::Init')\n",
    "        super().__init__()\n",
    "        self.can_swim = True\n",
    "\n",
    "        \n",
    "class Platypus(Mammal, Swimming):\n",
    "    def __init__(self):\n",
    "        print('Platypus::Init')\n",
    "        super().__init__()\n",
    "        \n",
    "        \n",
    "Joe = Platypus()\n",
    "Joe.legs"
   ]
  },
  {
   "cell_type": "code",
   "execution_count": 204,
   "metadata": {},
   "outputs": [
    {
     "data": {
      "text/plain": [
       "[__main__.Platypus,\n",
       " __main__.Mammal,\n",
       " __main__.Swimming,\n",
       " __main__.Animal,\n",
       " object]"
      ]
     },
     "execution_count": 204,
     "metadata": {},
     "output_type": "execute_result"
    }
   ],
   "source": [
    "Platypus.mro()"
   ]
  },
  {
   "cell_type": "code",
   "execution_count": 205,
   "metadata": {},
   "outputs": [
    {
     "data": {
      "text/plain": [
       "True"
      ]
     },
     "execution_count": 205,
     "metadata": {},
     "output_type": "execute_result"
    }
   ],
   "source": [
    "isinstance(Joe, Platypus)"
   ]
  },
  {
   "cell_type": "code",
   "execution_count": 206,
   "metadata": {},
   "outputs": [
    {
     "data": {
      "text/plain": [
       "True"
      ]
     },
     "execution_count": 206,
     "metadata": {},
     "output_type": "execute_result"
    }
   ],
   "source": [
    "isinstance(Joe, Animal) "
   ]
  },
  {
   "cell_type": "code",
   "execution_count": 207,
   "metadata": {},
   "outputs": [
    {
     "data": {
      "text/plain": [
       "True"
      ]
     },
     "execution_count": 207,
     "metadata": {},
     "output_type": "execute_result"
    }
   ],
   "source": [
    "isinstance(Joe, Swimming)"
   ]
  },
  {
   "cell_type": "code",
   "execution_count": 208,
   "metadata": {},
   "outputs": [
    {
     "data": {
      "text/plain": [
       "True"
      ]
     },
     "execution_count": 208,
     "metadata": {},
     "output_type": "execute_result"
    }
   ],
   "source": [
    "issubclass(Platypus, Animal)"
   ]
  },
  {
   "cell_type": "code",
   "execution_count": 217,
   "metadata": {},
   "outputs": [],
   "source": [
    "# magic methods\n",
    "\n",
    "class Bananas(object):\n",
    "    def __init__(self, count=4):\n",
    "        self.count = count"
   ]
  },
  {
   "cell_type": "code",
   "execution_count": 219,
   "metadata": {},
   "outputs": [],
   "source": [
    "class Bananas(object):\n",
    "    def __init__(self, count=4):\n",
    "        self.count = count\n",
    "        \n",
    "    def __str__(self):\n",
    "        return '{} bananas!'.format(self.count)\n",
    "    def __repr__(self):\n",
    "        return 'Bananas({})'.format(self.count)"
   ]
  },
  {
   "cell_type": "code",
   "execution_count": 236,
   "metadata": {},
   "outputs": [],
   "source": [
    "\n",
    "class Bananas(object):\n",
    "    def __init__(self, count=4):\n",
    "        self.count = count\n",
    "    def __str__(self):\n",
    "        return '{} bananas!'.format(self.count)\n",
    "    def __repr__(self):\n",
    "        return 'Bananas({})'.format(self.count)\n",
    "\n",
    "    def __add__(self, other):\n",
    "        if isinstance(other, int):\n",
    "            self.count += other\n",
    "        elif isinstance(other, str):\n",
    "            print('sdsdsd')\n",
    "\n",
    "    def __iadd__(self, other):\n",
    "        self.count += other.count  # be aware of the semantics\n",
    "        return self\n",
    "\n",
    "        \n"
   ]
  },
  {
   "cell_type": "code",
   "execution_count": 241,
   "metadata": {},
   "outputs": [
    {
     "name": "stdout",
     "output_type": "stream",
     "text": [
      "sdsdsd\n"
     ]
    }
   ],
   "source": [
    "banana1 = Bananas(10)\n",
    "banana2 = Bananas(5)\n",
    "\n",
    "banana1 + 'dskjakldjaskld'"
   ]
  },
  {
   "cell_type": "code",
   "execution_count": 240,
   "metadata": {},
   "outputs": [
    {
     "name": "stdout",
     "output_type": "stream",
     "text": [
      "20 bananas!\n"
     ]
    }
   ],
   "source": [
    "print(banana1)"
   ]
  },
  {
   "cell_type": "code",
   "execution_count": 245,
   "metadata": {},
   "outputs": [
    {
     "name": "stdout",
     "output_type": "stream",
     "text": [
      "True\n",
      "True\n"
     ]
    }
   ],
   "source": [
    "class Bananas(object):\n",
    "    def __init__(self, count=4):\n",
    "        self.count = count\n",
    "    def __repr__(self):\n",
    "        return 'Bananas({})'.format(self.count)\n",
    "\n",
    "    def __lt__(self, other):   #  __gt__ __le__  __ge__\n",
    "        return self.count < other.count\n",
    "    \n",
    "    def __eq__(self, other):    \n",
    "        return self.count == other.count\n",
    "\n",
    "        \n",
    "print(Bananas(3) < Bananas(5))\n",
    "print(Bananas(5) == Bananas(5))"
   ]
  },
  {
   "cell_type": "code",
   "execution_count": 251,
   "metadata": {},
   "outputs": [],
   "source": [
    "class Bananas(object):\n",
    "    def __init__(self, count=4):\n",
    "        self.count = count\n",
    "        \n",
    "    def __repr__(self):\n",
    "        return 'Bananas({})'.format(self.count)\n",
    "\n",
    "    def __add__(self, other):   #  __gt__ __le__  __ge__\n",
    "        return Bananas(self.count + other.count)\n",
    "\n",
    "    def __mul__(self, mult):\n",
    "        if isinstance(mult, int):\n",
    "            return Bananas(self.count * mult)\n",
    "        else:\n",
    "            raise NotImplementedError\n",
    "            \n",
    "\n",
    "a = Bananas(4)\n",
    "a += Bananas(5)"
   ]
  },
  {
   "cell_type": "code",
   "execution_count": 254,
   "metadata": {},
   "outputs": [
    {
     "data": {
      "text/plain": [
       "4"
      ]
     },
     "execution_count": 254,
     "metadata": {},
     "output_type": "execute_result"
    }
   ],
   "source": [
    "a = Bananas(4)\n",
    "int(a)"
   ]
  },
  {
   "cell_type": "code",
   "execution_count": 259,
   "metadata": {},
   "outputs": [],
   "source": [
    "class Bananas(object):\n",
    "    def __init__(self, count=4):\n",
    "        self.count = count\n",
    "        \n",
    "    def __repr__(self):\n",
    "        return 'Bananas({})'.format(self.count)\n",
    "\n",
    "    def __str__(self):\n",
    "        return '{} Bananas!'.format(self.count)\n",
    "    \n",
    "    def __int__(self):\n",
    "        return self.count\n",
    "\n",
    "    def __bool__(self):\n",
    "        return self.count > 0\n",
    "\n",
    "b = Bananas(-1)\n",
    "\n",
    "if b:\n",
    "    print(int(b) + 2)"
   ]
  },
  {
   "cell_type": "code",
   "execution_count": 272,
   "metadata": {},
   "outputs": [
    {
     "ename": "TypeError",
     "evalue": "unsupported format string passed to dict.__format__",
     "output_type": "error",
     "traceback": [
      "\u001b[0;31m---------------------------------------------------------------------------\u001b[0m",
      "\u001b[0;31mTypeError\u001b[0m                                 Traceback (most recent call last)",
      "\u001b[0;32m<ipython-input-272-1d2b2741be29>\u001b[0m in \u001b[0;36m<module>\u001b[0;34m\u001b[0m\n\u001b[0;32m----> 1\u001b[0;31m \u001b[0;34m'He {:1} llo, {:2}  dsdsddssd {:pew}'\u001b[0m\u001b[0;34m.\u001b[0m\u001b[0mformat\u001b[0m\u001b[0;34m(\u001b[0m\u001b[0;34m{\u001b[0m\u001b[0;34m'1'\u001b[0m\u001b[0;34m:\u001b[0m\u001b[0;34m'world!'\u001b[0m\u001b[0;34m,\u001b[0m \u001b[0;34m'2'\u001b[0m\u001b[0;34m:\u001b[0m\u001b[0;34m'sdsd'\u001b[0m\u001b[0;34m,\u001b[0m \u001b[0;34m'pew'\u001b[0m\u001b[0;34m:\u001b[0m\u001b[0;34m'tweet'\u001b[0m\u001b[0;34m}\u001b[0m\u001b[0;34m)\u001b[0m\u001b[0;34m\u001b[0m\u001b[0;34m\u001b[0m\u001b[0m\n\u001b[0m",
      "\u001b[0;31mTypeError\u001b[0m: unsupported format string passed to dict.__format__"
     ]
    }
   ],
   "source": [
    "'He {:1} llo, {:2}  dsdsddssd {:pew}'.format({'1':'world!', '2':'sdsd', 'pew':'tweet'})"
   ]
  },
  {
   "cell_type": "code",
   "execution_count": 274,
   "metadata": {},
   "outputs": [
    {
     "data": {
      "text/plain": [
       "'Some bananas for you : 🍌🍌🍌🍌🍌🍌🍌🍌🍌🍌🍌🍌🍌🍌🍌🍌🍌🍌🍌🍌🍌🍌🍌🍌🍌🍌🍌🍌🍌🍌🍌🍌🍌🍌🍌🍌🍌🍌🍌🍌'"
      ]
     },
     "execution_count": 274,
     "metadata": {},
     "output_type": "execute_result"
    }
   ],
   "source": [
    "class Bananas(object):\n",
    "    def __init__(self, count=4):\n",
    "        self.count = count\n",
    "        \n",
    "    def __repr__(self):\n",
    "        return 'Bananas({})'.format(self.count)\n",
    "    \n",
    "    def __format__(self, fstr):\n",
    "        if fstr == 'pretty':\n",
    "            return '🍌' * self.count\n",
    "        else:\n",
    "            return repr(self)\n",
    "    \n",
    "'Some bananas for you : {:pretty}'.format(Bananas(40))"
   ]
  },
  {
   "cell_type": "code",
   "execution_count": 301,
   "metadata": {
    "scrolled": true
   },
   "outputs": [
    {
     "data": {
      "text/plain": [
       "{Bananas(0), Bananas(1), Bananas(2), Bananas(3), Bananas(4)}"
      ]
     },
     "execution_count": 301,
     "metadata": {},
     "output_type": "execute_result"
    }
   ],
   "source": [
    "class Bananas(object):\n",
    "    def __init__(self, count=4):\n",
    "        self.count = count\n",
    "        \n",
    "    def __repr__(self):\n",
    "        return 'Bananas({})'.format(self.count)\n",
    "\n",
    "    def __hash__(self):\n",
    "        return self.count \n",
    "    \n",
    "    def __eq__(self, other):\n",
    "        return self.count == other.count\n",
    "    \n",
    "s = set()\n",
    "for i in range(10):\n",
    "    a = Bananas(i // 2)\n",
    "    s.add(a)\n",
    "s"
   ]
  },
  {
   "cell_type": "code",
   "execution_count": 297,
   "metadata": {},
   "outputs": [
    {
     "data": {
      "text/plain": [
       "{'hello'}"
      ]
     },
     "execution_count": 297,
     "metadata": {},
     "output_type": "execute_result"
    }
   ],
   "source": [
    "set(['hello', 'hello'])"
   ]
  },
  {
   "cell_type": "code",
   "execution_count": null,
   "metadata": {},
   "outputs": [],
   "source": []
  },
  {
   "cell_type": "code",
   "execution_count": 284,
   "metadata": {},
   "outputs": [],
   "source": [
    "a = Bananas()"
   ]
  },
  {
   "cell_type": "code",
   "execution_count": 286,
   "metadata": {},
   "outputs": [
    {
     "ename": "TypeError",
     "evalue": "'Bananas' object is not iterable",
     "output_type": "error",
     "traceback": [
      "\u001b[0;31m---------------------------------------------------------------------------\u001b[0m",
      "\u001b[0;31mTypeError\u001b[0m                                 Traceback (most recent call last)",
      "\u001b[0;32m<ipython-input-286-5b4c643a6feb>\u001b[0m in \u001b[0;36m<module>\u001b[0;34m\u001b[0m\n\u001b[0;32m----> 1\u001b[0;31m \u001b[0mset\u001b[0m\u001b[0;34m(\u001b[0m\u001b[0ma\u001b[0m\u001b[0;34m)\u001b[0m\u001b[0;34m\u001b[0m\u001b[0;34m\u001b[0m\u001b[0m\n\u001b[0m",
      "\u001b[0;31mTypeError\u001b[0m: 'Bananas' object is not iterable"
     ]
    }
   ],
   "source": [
    "set(pa)"
   ]
  },
  {
   "cell_type": "code",
   "execution_count": 302,
   "metadata": {},
   "outputs": [
    {
     "name": "stdout",
     "output_type": "stream",
     "text": [
      "4.898979485566356\n"
     ]
    }
   ],
   "source": [
    "from math import factorial, sqrt\n",
    "\n",
    "class Pipeline(object):\n",
    "    def __init__(self, *args):\n",
    "        self.funcs = args\n",
    "        \n",
    "    def __call__(self, x):\n",
    "        for func in self.funcs:\n",
    "            x = func(x)\n",
    "        return x\n",
    "    \n",
    "p = Pipeline(factorial, sqrt, print)\n",
    "\n",
    "p(4)"
   ]
  },
  {
   "cell_type": "code",
   "execution_count": 311,
   "metadata": {},
   "outputs": [
    {
     "name": "stdout",
     "output_type": "stream",
     "text": [
      "1 + 2 + 3 = 6\n",
      "1 + 6 + 3 = 10\n",
      "1\n",
      "6\n",
      "3\n"
     ]
    }
   ],
   "source": [
    "class Sum(object):\n",
    "    def __init__(self, summands):\n",
    "        self.summands = summands\n",
    "        self.total = sum(summands)\n",
    "        \n",
    "    def __len__(self):\n",
    "        return len(self.summands)\n",
    "    \n",
    "    def __str__(self):\n",
    "        return(' + '.join(map(str, self.summands)) + ' = {}'.format(self.total))\n",
    "    \n",
    "    def __getitem__(self, i):\n",
    "        return self.summands[i]\n",
    "    \n",
    "    def __setitem__(self, i, value):\n",
    "        self.total -= self.summands[i] - value\n",
    "        self.summands[i] = value\n",
    "    \n",
    "s = Sum([1, 2 ,3])\n",
    "print(s)\n",
    "s[1] = 6\n",
    "print(s)\n",
    "\n",
    "for elem in s:\n",
    "    print(elem)"
   ]
  },
  {
   "cell_type": "code",
   "execution_count": 310,
   "metadata": {},
   "outputs": [
    {
     "data": {
      "text/plain": [
       "6"
      ]
     },
     "execution_count": 310,
     "metadata": {},
     "output_type": "execute_result"
    }
   ],
   "source": [
    "s[1]"
   ]
  },
  {
   "cell_type": "code",
   "execution_count": 303,
   "metadata": {},
   "outputs": [
    {
     "name": "stdout",
     "output_type": "stream",
     "text": [
      "2\n",
      "3\n",
      "4\n",
      "5\n"
     ]
    }
   ],
   "source": [
    "for elen in [2, 3, 4, 5]:\n",
    "    print(elen)"
   ]
  },
  {
   "cell_type": "code",
   "execution_count": 312,
   "metadata": {},
   "outputs": [
    {
     "name": "stdout",
     "output_type": "stream",
     "text": [
      "Setting name to Bond\n",
      "Setting name to James Bond\n"
     ]
    }
   ],
   "source": [
    "class LoggingDict(dict):\n",
    "    def __setitem__(self, key, value):\n",
    "        print('Setting {} to {}'.format(key, value))\n",
    "        super().__setitem__(key, value)\n",
    "        \n",
    "d = LoggingDict()\n",
    "\n",
    "d['name'] = 'Bond'\n",
    "d['name'] = 'James Bond' "
   ]
  },
  {
   "cell_type": "code",
   "execution_count": 313,
   "metadata": {},
   "outputs": [
    {
     "data": {
      "text/plain": [
       "{'name': 'James Bond'}"
      ]
     },
     "execution_count": 313,
     "metadata": {},
     "output_type": "execute_result"
    }
   ],
   "source": [
    "d"
   ]
  },
  {
   "cell_type": "code",
   "execution_count": 314,
   "metadata": {},
   "outputs": [],
   "source": [
    "import collections\n",
    "\n",
    "class LoggingOD(LoggingDict, collections.OrderedDict):\n",
    "    pass\n",
    "\n",
    "d = LoggingOD()"
   ]
  }
 ],
 "metadata": {
  "kernelspec": {
   "display_name": "Python 3",
   "language": "python",
   "name": "python3"
  },
  "language_info": {
   "codemirror_mode": {
    "name": "ipython",
    "version": 3
   },
   "file_extension": ".py",
   "mimetype": "text/x-python",
   "name": "python",
   "nbconvert_exporter": "python",
   "pygments_lexer": "ipython3",
   "version": "3.6.8"
  }
 },
 "nbformat": 4,
 "nbformat_minor": 2
}
