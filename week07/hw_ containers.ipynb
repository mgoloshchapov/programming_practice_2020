{
 "cells": [
  {
   "cell_type": "markdown",
   "metadata": {},
   "source": [
    "### Задача 1"
   ]
  },
  {
   "cell_type": "markdown",
   "metadata": {},
   "source": [
    "Дан список чисел. Определите, сколько в этом списке элементов, которые больше двух своих соседей, и выведите количество таких элементов. Крайние элементы списка никогда не учитываются, поскольку у них недостаточно соседей. (pythontutor.ru, занятие 7, «Больше своих соседей»)"
   ]
  },
  {
   "cell_type": "code",
   "execution_count": 9,
   "metadata": {},
   "outputs": [
    {
     "name": "stdout",
     "output_type": "stream",
     "text": [
      "4 5 2 9 3 0 4\n",
      "2\n"
     ]
    }
   ],
   "source": [
    "l = [int(i) for i in input().split()]\n",
    "\n",
    "n = 0\n",
    "for i in range(1, len(l) - 1):\n",
    "    if (l[i - 1] < l[i]) & (l[i] > l[i + 1]): \n",
    "        n += 1\n",
    "print(n)"
   ]
  },
  {
   "cell_type": "markdown",
   "metadata": {},
   "source": [
    "### Задача 2"
   ]
  },
  {
   "cell_type": "markdown",
   "metadata": {},
   "source": [
    "В списке все элементы различны. Поменяйте местами минимальный и максимальный элемент этого списка. (pythontutor.ru, занятие 7, «Переставить min и max»)"
   ]
  },
  {
   "cell_type": "code",
   "execution_count": 15,
   "metadata": {},
   "outputs": [
    {
     "name": "stdout",
     "output_type": "stream",
     "text": [
      "32 -1 10 4 3 5\n",
      "-1 32 10 4 3 5\n"
     ]
    }
   ],
   "source": [
    "l = [int(i) for i in input().split()]\n",
    "\n",
    "max_ind = 0\n",
    "min_ind = 0\n",
    "\n",
    "for ind in range(1, len(l)):\n",
    "    \n",
    "    if l[ind] > l[max_ind]:\n",
    "        max_ind = ind\n",
    "        \n",
    "    if l[ind] < l[min_ind]:\n",
    "        min_ind = ind\n",
    "        \n",
    "l[min_ind], l[max_ind] = l[max_ind], l[min_ind]\n",
    "\n",
    "print(' '.join([str(i) for i in l]))"
   ]
  },
  {
   "cell_type": "markdown",
   "metadata": {},
   "source": [
    "### Задача 3"
   ]
  },
  {
   "cell_type": "markdown",
   "metadata": {},
   "source": [
    "Дан список чисел. Посчитайте, сколько в нем пар элементов, равных друг другу. Считается, что любые два элемента, равные друг другу образуют одну пару, которую необходимо посчитать. (pythontutor.ru, занятие 7, «Количество совпадающих пар»)"
   ]
  },
  {
   "cell_type": "code",
   "execution_count": 24,
   "metadata": {},
   "outputs": [
    {
     "name": "stdout",
     "output_type": "stream",
     "text": [
      "0 0 1 2 2 5 6 3 6 10\n",
      "3\n"
     ]
    }
   ],
   "source": [
    "l = [int(i) for i in input().split()]\n",
    "\n",
    "print((sum([i == j for j in l for i in l]) - len(l)) // 2)"
   ]
  },
  {
   "cell_type": "markdown",
   "metadata": {},
   "source": [
    "### Задача 4"
   ]
  },
  {
   "cell_type": "markdown",
   "metadata": {},
   "source": [
    "Дан список. Выведите те его элементы, которые встречаются в списке только один раз. Элементы нужно выводить в том порядке, в котором они встречаются в списке. (pythontutor.ru, занятие 7, «Уникальные элементы»)"
   ]
  },
  {
   "cell_type": "code",
   "execution_count": 30,
   "metadata": {},
   "outputs": [
    {
     "name": "stdout",
     "output_type": "stream",
     "text": [
      "3 3 2 4 5 5 6 7 7\n",
      "2 4 6\n"
     ]
    }
   ],
   "source": [
    "l = [int(i) for i in input().split()]\n",
    "print(' '.join([str(elem) for i, elem in enumerate(l) if not ((elem in l[:i]) or (elem in l[i + 1:]))]))"
   ]
  },
  {
   "cell_type": "markdown",
   "metadata": {},
   "source": [
    "### Задача 5"
   ]
  },
  {
   "cell_type": "markdown",
   "metadata": {},
   "source": [
    "Даны два списка чисел. Найдите все числа, которые входят как в первый, так и во второй список и выведите их в порядке возрастания (pythontutor.ru, занятие 10, «Пересечение множеств»)"
   ]
  },
  {
   "cell_type": "code",
   "execution_count": 33,
   "metadata": {},
   "outputs": [
    {
     "name": "stdout",
     "output_type": "stream",
     "text": [
      "2 3 5 6 2 5 7\n",
      "2 \n",
      "2\n"
     ]
    }
   ],
   "source": [
    "l = sorted(list(set([int(i) for i in input().split()]).intersection(set([int(j) for j in input().split()]))))\n",
    "print(' '.join([str(i) for i in l]))"
   ]
  },
  {
   "cell_type": "markdown",
   "metadata": {},
   "source": [
    "### Задача 6"
   ]
  },
  {
   "cell_type": "markdown",
   "metadata": {},
   "source": [
    "Во входной строке записана последовательность чисел через пробел. Для каждого числа выведите слово YES (в отдельной строке), если это число ранее встречалось в последовательности или NO, если не встречалось. (pythontutor.ru, занятие 10, «Встречалось ли число раньше»)"
   ]
  },
  {
   "cell_type": "code",
   "execution_count": 34,
   "metadata": {},
   "outputs": [
    {
     "name": "stdout",
     "output_type": "stream",
     "text": [
      "3 4 5 5 6 7 8\n",
      "3\n",
      "NO\n",
      "4\n",
      "NO\n",
      "5\n",
      "NO\n",
      "5\n",
      "YES\n",
      "6\n",
      "NO\n",
      "7\n",
      "NO\n",
      "8\n",
      "NO\n"
     ]
    }
   ],
   "source": [
    "l = [int(i) for i in input().split()]\n",
    "for i, elem in enumerate(l):\n",
    "    print(elem)\n",
    "    if elem in l[:i]:\n",
    "        print('YES')\n",
    "    else:\n",
    "        print('NO')"
   ]
  },
  {
   "cell_type": "markdown",
   "metadata": {},
   "source": [
    "### Задача 7"
   ]
  },
  {
   "cell_type": "markdown",
   "metadata": {},
   "source": [
    "Дан текст: в первой строке записано число строк, далее идут сами строки. Определите, сколько различных слов содержится в этом тексте. Словом считается последовательность непробельных символов идущих подряд, слова разделены одним или большим числом пробелов или символами конца строки. (pythontutor.ru, занятие 10, «Количество слов в тексте»)"
   ]
  },
  {
   "cell_type": "code",
   "execution_count": 35,
   "metadata": {},
   "outputs": [
    {
     "name": "stdout",
     "output_type": "stream",
     "text": [
      "5\n",
      "lksdsldkoaskd\n",
      "sadjiasojdio dash osa daskdj\n",
      "dsadk ;lsdk saddle; kkd\n",
      "sdladkl ;lsakdl; sakdl\n",
      "sdks suds aa \n",
      "15\n"
     ]
    }
   ],
   "source": [
    "s = set()\n",
    "for i in range(int(input())):\n",
    "    s.update(input().split())\n",
    "print(len(s))"
   ]
  },
  {
   "cell_type": "markdown",
   "metadata": {},
   "source": [
    "### Задача 8"
   ]
  },
  {
   "cell_type": "markdown",
   "metadata": {},
   "source": [
    "Вам дан словарь, состоящий из пар слов. Каждое слово является синонимом к парному ему слову. Все слова в словаре различны. Для слова из словаря, записанного в последней строке, определите его синоним. (pythontutor.ru, занятие 11, «Словарь синонимов»)"
   ]
  },
  {
   "cell_type": "code",
   "execution_count": 42,
   "metadata": {},
   "outputs": [
    {
     "name": "stdout",
     "output_type": "stream",
     "text": [
      "1\n",
      "Hello MipT\n",
      "MipT\n",
      "Hello\n"
     ]
    }
   ],
   "source": [
    "d = {}\n",
    "for i in range(int(input())):\n",
    "    word, synonym = input().split()\n",
    "    d[word] = synonym\n",
    "    d[synonym] = word\n",
    "print(d[input()])"
   ]
  },
  {
   "cell_type": "markdown",
   "metadata": {},
   "source": [
    "### Задача 9"
   ]
  },
  {
   "cell_type": "markdown",
   "metadata": {},
   "source": [
    "Дан текст: в первой строке задано число строк, далее идут сами строки. Выведите слово, которое в этом тексте встречается чаще всего. Если таких слов несколько, выведите то, которое меньше в лексикографическом порядке. (pythontutor.ru, занятие 11, «Самое частое слово»)"
   ]
  },
  {
   "cell_type": "code",
   "execution_count": 55,
   "metadata": {},
   "outputs": [
    {
     "name": "stdout",
     "output_type": "stream",
     "text": [
      "2\n",
      "Hello Mipt Hello\n",
      "Mipt the best\n",
      "Hello\n"
     ]
    }
   ],
   "source": [
    "d = {}\n",
    "for i in range(int(input())):\n",
    "    for word in input().split():\n",
    "        d[word] = d.get(word, 0) + 1\n",
    "print(min([word for word, counts in d.items() if counts == max(d.values())]))"
   ]
  },
  {
   "cell_type": "markdown",
   "metadata": {},
   "source": [
    "### Задача 10"
   ]
  },
  {
   "cell_type": "markdown",
   "metadata": {},
   "source": [
    "Дана база данных о продажах некоторого интернет-магазина. Каждая строка входного файла представляет собой запись вида Покупатель товар количество, где Покупатель — имя покупателя (строка без пробелов), товар — название товара (строка без пробелов), количество — количество приобретенных единиц товара. Создайте список всех покупателей, а для каждого покупателя подсчитайте количество приобретенных им единиц каждого вида товаров. Список покупателей, а также список товаров для каждого покупателя нужно выводить в лексикографическом порядке. (pythontutor.ru, занятие 11, «Продажи»)"
   ]
  },
  {
   "cell_type": "code",
   "execution_count": 86,
   "metadata": {},
   "outputs": [
    {
     "name": "stdout",
     "output_type": "stream",
     "text": [
      "Ivanov:\n",
      "envelope 5\n",
      "marker 3\n",
      "paper 17\n",
      "Petrov:\n",
      "envelope 20\n",
      "pens 5\n"
     ]
    }
   ],
   "source": [
    "db = \"\"\"Ivanov paper 10\n",
    "        Petrov pens 5\n",
    "        Ivanov marker 3\n",
    "        Ivanov paper 7\n",
    "        Petrov envelope 20\n",
    "        Ivanov envelope 5\"\"\".split('\\n')\n",
    "\n",
    "customers = {}\n",
    "for row in db:\n",
    "    name, product, value = row.split()\n",
    "    value = int(value)\n",
    "    if name in customers:\n",
    "        customers[name][product] = customers[name].get(product, 0) + value\n",
    "    else:\n",
    "        customers[name] = {product: value}\n",
    "\n",
    "for name in sorted(customers.keys()):\n",
    "    print(name + ':')\n",
    "    for product in sorted(customers[name].keys()):\n",
    "        print(product, customers[name][product])"
   ]
  }
 ],
 "metadata": {
  "kernelspec": {
   "display_name": "Python 3",
   "language": "python",
   "name": "python3"
  },
  "language_info": {
   "codemirror_mode": {
    "name": "ipython",
    "version": 3
   },
   "file_extension": ".py",
   "mimetype": "text/x-python",
   "name": "python",
   "nbconvert_exporter": "python",
   "pygments_lexer": "ipython3",
   "version": "3.6.8"
  }
 },
 "nbformat": 4,
 "nbformat_minor": 2
}
