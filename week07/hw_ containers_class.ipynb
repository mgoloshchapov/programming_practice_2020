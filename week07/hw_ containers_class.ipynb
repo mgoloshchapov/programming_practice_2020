{
 "cells": [
  {
   "cell_type": "markdown",
   "metadata": {},
   "source": [
    "### Задача 1"
   ]
  },
  {
   "cell_type": "markdown",
   "metadata": {},
   "source": [
    "Дан список чисел. Определите, сколько в этом списке элементов, которые больше двух своих соседей, и выведите количество таких элементов. Крайние элементы списка никогда не учитываются, поскольку у них недостаточно соседей. (pythontutor.ru, занятие 7, «Больше своих соседей»)"
   ]
  },
  {
   "cell_type": "code",
   "execution_count": 1,
   "metadata": {},
   "outputs": [
    {
     "name": "stdout",
     "output_type": "stream",
     "text": [
      "1 2 3 4 5 6 45 34 23 12 45\n",
      "1\n"
     ]
    }
   ],
   "source": [
    "a = list(map(int, input().split()))\n",
    "b = 0\n",
    "for i in range(1, len(a) - 1):\n",
    "    if a[i] > a[i - 1] and a[i] > a[i + 1]:\n",
    "        b += 1\n",
    "print(b)"
   ]
  },
  {
   "cell_type": "markdown",
   "metadata": {},
   "source": [
    "### Задача 2"
   ]
  },
  {
   "cell_type": "markdown",
   "metadata": {},
   "source": [
    "В списке все элементы различны. Поменяйте местами минимальный и максимальный элемент этого списка. (pythontutor.ru, занятие 7, «Переставить min и max»)"
   ]
  },
  {
   "cell_type": "code",
   "execution_count": 5,
   "metadata": {},
   "outputs": [
    {
     "name": "stdout",
     "output_type": "stream",
     "text": [
      "1 2 3 5 7 4\n",
      "7 2 3 5 1 4\n"
     ]
    }
   ],
   "source": [
    "a = [int(s) for s in input().split()]\n",
    "max_element = 0\n",
    "min_element = 0\n",
    "for i in range(1, len(a)):\n",
    "    if a[i] > a[max_element]:\n",
    "        max_element = i\n",
    "    if a[i] < a[min_element]:\n",
    "        min_element = i\n",
    "a[max_element], a[min_element] = a[min_element], a[max_element]\n",
    "print(' '.join([str(s) for s in a]))"
   ]
  },
  {
   "cell_type": "code",
   "execution_count": 8,
   "metadata": {},
   "outputs": [
    {
     "data": {
      "text/plain": [
       "list"
      ]
     },
     "execution_count": 8,
     "metadata": {},
     "output_type": "execute_result"
    }
   ],
   "source": [
    "a = 'a b c d'.split()\n",
    "type(a)"
   ]
  },
  {
   "cell_type": "code",
   "execution_count": 12,
   "metadata": {},
   "outputs": [
    {
     "data": {
      "text/plain": [
       "'a;b;c;d'"
      ]
     },
     "execution_count": 12,
     "metadata": {},
     "output_type": "execute_result"
    }
   ],
   "source": [
    "';'.join(a)"
   ]
  },
  {
   "cell_type": "markdown",
   "metadata": {},
   "source": [
    "### Задача 3"
   ]
  },
  {
   "cell_type": "markdown",
   "metadata": {},
   "source": [
    "Дан список чисел. Посчитайте, сколько в нем пар элементов, равных друг другу. Считается, что любые два элемента, равные друг другу образуют одну пару, которую необходимо посчитать. (pythontutor.ru, занятие 7, «Количество совпадающих пар»)"
   ]
  },
  {
   "cell_type": "code",
   "execution_count": 14,
   "metadata": {},
   "outputs": [
    {
     "name": "stdout",
     "output_type": "stream",
     "text": [
      "1 2 3 3 4 5 4 \n",
      "2\n"
     ]
    }
   ],
   "source": [
    "a = [int(i) for i in input().split()]\n",
    "c = 0\n",
    "for i in range(0, len(a)):\n",
    "    for n in range(i + 1, len(a)):\n",
    "        if a[i] == a[n]:\n",
    "            c += 1\n",
    "print(c)"
   ]
  },
  {
   "cell_type": "code",
   "execution_count": null,
   "metadata": {},
   "outputs": [],
   "source": [
    "l = [int(i) for i in input().split()]\n",
    "\n",
    "print((sum([i == j for j in l for i in l]) - len(l)) // 2)"
   ]
  },
  {
   "cell_type": "markdown",
   "metadata": {},
   "source": [
    "### Задача 4"
   ]
  },
  {
   "cell_type": "markdown",
   "metadata": {},
   "source": [
    "Дан список. Выведите те его элементы, которые встречаются в списке только один раз. Элементы нужно выводить в том порядке, в котором они встречаются в списке. (pythontutor.ru, занятие 7, «Уникальные элементы»)"
   ]
  },
  {
   "cell_type": "code",
   "execution_count": 25,
   "metadata": {},
   "outputs": [],
   "source": [
    "a = [i for i in input().split()]\n",
    "for i in a:\n",
    "    count = 0\n",
    "    for j in a:\n",
    "        if i==j:\n",
    "            count += 1\n",
    "    if count == 1:\n",
    "        print(i)"
   ]
  },
  {
   "cell_type": "code",
   "execution_count": 18,
   "metadata": {},
   "outputs": [
    {
     "name": "stdout",
     "output_type": "stream",
     "text": [
      "342 434 552 25 6\n",
      "342 434 552 25 6\n"
     ]
    }
   ],
   "source": [
    "l = [int(i) for i in input().split()]\n",
    "print(' '.join([str(elem) for i, elem in enumerate(l) \n",
    "                if not ((elem in l[:i]) or (elem in l[i + 1:]))]))"
   ]
  },
  {
   "cell_type": "markdown",
   "metadata": {},
   "source": [
    "### Задача 5"
   ]
  },
  {
   "cell_type": "markdown",
   "metadata": {},
   "source": [
    "Даны два списка чисел. Найдите все числа, которые входят как в первый, так и во второй список и выведите их в порядке возрастания (pythontutor.ru, занятие 10, «Пересечение множеств»)"
   ]
  },
  {
   "cell_type": "code",
   "execution_count": 32,
   "metadata": {},
   "outputs": [
    {
     "name": "stdout",
     "output_type": "stream",
     "text": [
      "43 5435 563 334 34\n",
      "343 443 43 434 53\n",
      "43\n"
     ]
    }
   ],
   "source": [
    "l = sorted(list(set([int(i) for i in input().split()])\\\n",
    "        .intersection(set([int(j) for j in input().split()]))))\n",
    "print(' '.join([str(i) for i in l]))"
   ]
  },
  {
   "cell_type": "markdown",
   "metadata": {},
   "source": [
    "### Задача 6"
   ]
  },
  {
   "cell_type": "markdown",
   "metadata": {},
   "source": [
    "Во входной строке записана последовательность чисел через пробел. Для каждого числа выведите слово YES (в отдельной строке), если это число ранее встречалось в последовательности или NO, если не встречалось. (pythontutor.ru, занятие 10, «Встречалось ли число раньше»)"
   ]
  },
  {
   "cell_type": "code",
   "execution_count": 33,
   "metadata": {},
   "outputs": [
    {
     "name": "stdout",
     "output_type": "stream",
     "text": [
      "2 3 4 2 5 6 3\n",
      "NO\n",
      "NO\n",
      "NO\n",
      "YES\n",
      "NO\n",
      "NO\n",
      "YES\n"
     ]
    }
   ],
   "source": [
    "a=input().split()\n",
    "for i in range(len(a)):\n",
    "    if a[i] in a[:i]:\n",
    "        print('YES')\n",
    "    else:\n",
    "        print('NO')"
   ]
  },
  {
   "cell_type": "markdown",
   "metadata": {},
   "source": [
    "### Задача 7"
   ]
  },
  {
   "cell_type": "markdown",
   "metadata": {},
   "source": [
    "Дан текст: в первой строке записано число строк, далее идут сами строки. Определите, сколько различных слов содержится в этом тексте. Словом считается последовательность непробельных символов идущих подряд, слова разделены одним или большим числом пробелов или символами конца строки. (pythontutor.ru, занятие 10, «Количество слов в тексте»)"
   ]
  },
  {
   "cell_type": "code",
   "execution_count": 37,
   "metadata": {},
   "outputs": [
    {
     "name": "stdout",
     "output_type": "stream",
     "text": [
      "2\n",
      "hello world\n",
      "world mipt\n",
      "3\n"
     ]
    }
   ],
   "source": [
    "n = int(input())\n",
    "s = set()\n",
    "for i in range(n):\n",
    "    row = input().split()\n",
    "    s.update(row)\n",
    "print(len(s))"
   ]
  },
  {
   "cell_type": "code",
   "execution_count": 39,
   "metadata": {},
   "outputs": [
    {
     "data": {
      "text/plain": [
       "{'hello', 'mipt', 'world'}"
      ]
     },
     "execution_count": 39,
     "metadata": {},
     "output_type": "execute_result"
    }
   ],
   "source": [
    "s"
   ]
  },
  {
   "cell_type": "markdown",
   "metadata": {},
   "source": [
    "### Задача 8"
   ]
  },
  {
   "cell_type": "markdown",
   "metadata": {},
   "source": [
    "Вам дан словарь, состоящий из пар слов. Каждое слово является синонимом к парному ему слову. Все слова в словаре различны. Для слова из словаря, записанного в последней строке, определите его синоним. (pythontutor.ru, занятие 11, «Словарь синонимов»)"
   ]
  },
  {
   "cell_type": "code",
   "execution_count": 47,
   "metadata": {},
   "outputs": [
    {
     "name": "stdout",
     "output_type": "stream",
     "text": [
      "2\n",
      "hello mipt\n",
      "levo pravo\n",
      "levo\n",
      "pravo\n"
     ]
    }
   ],
   "source": [
    "a = {}\n",
    "n = int(input())\n",
    "for i in range(n):\n",
    "    word, synonym = input().split()\n",
    "    a[word] = synonym\n",
    "    a[synonym] = word\n",
    "goal_word = input()\n",
    "print(a[goal_word])"
   ]
  },
  {
   "cell_type": "markdown",
   "metadata": {},
   "source": [
    "### Задача 9"
   ]
  },
  {
   "cell_type": "markdown",
   "metadata": {},
   "source": [
    "Дан текст: в первой строке задано число строк, далее идут сами строки. Выведите слово, которое в этом тексте встречается чаще всего. Если таких слов несколько, выведите то, которое меньше в лексикографическом порядке. (pythontutor.ru, занятие 11, «Самое частое слово»)"
   ]
  },
  {
   "cell_type": "code",
   "execution_count": 48,
   "metadata": {},
   "outputs": [],
   "source": [
    "from collections import Counter"
   ]
  },
  {
   "cell_type": "code",
   "execution_count": 60,
   "metadata": {},
   "outputs": [
    {
     "name": "stdout",
     "output_type": "stream",
     "text": [
      "3\n",
      "hello mipt student mipt\n",
      "hello mipt student mitt\n",
      "fbifb skiff hello\n",
      "hello mipt\n"
     ]
    }
   ],
   "source": [
    "n = int(input())\n",
    "dict1 = {}\n",
    "\n",
    "for i in range(n):\n",
    "    row = input().split()\n",
    "    for word in row:\n",
    "        if word in dict1:\n",
    "            dict1[word] += 1\n",
    "        else:\n",
    "            dict1[word] = 1\n",
    "            \n",
    "print(' '.join(sorted([key for key in dict1.keys() if dict1[key] \n",
    "        == max(dict1.values())])))\n"
   ]
  },
  {
   "cell_type": "code",
   "execution_count": 59,
   "metadata": {},
   "outputs": [
    {
     "data": {
      "text/plain": [
       "3"
      ]
     },
     "execution_count": 59,
     "metadata": {},
     "output_type": "execute_result"
    }
   ],
   "source": [
    "max(dict1.values())"
   ]
  },
  {
   "cell_type": "code",
   "execution_count": 56,
   "metadata": {},
   "outputs": [
    {
     "name": "stdout",
     "output_type": "stream",
     "text": [
      "hello hello mist mist mipt students students\n"
     ]
    },
    {
     "data": {
      "text/plain": [
       "Counter({'hello': 2, 'mist': 2, 'mipt': 1, 'students': 2})"
      ]
     },
     "execution_count": 56,
     "metadata": {},
     "output_type": "execute_result"
    }
   ],
   "source": [
    "Counter(input().split())"
   ]
  },
  {
   "cell_type": "code",
   "execution_count": 55,
   "metadata": {},
   "outputs": [
    {
     "data": {
      "text/plain": [
       "Counter({'hello': 3, 'mist': 1, 'mitt': 2, 'mipt': 2, 'students': 2})"
      ]
     },
     "execution_count": 55,
     "metadata": {},
     "output_type": "execute_result"
    }
   ],
   "source": [
    "Counter(\"\"\"hello mist hello\n",
    "mitt mitt mipt hello\n",
    "students mipt students\"\"\".split())"
   ]
  },
  {
   "cell_type": "code",
   "execution_count": null,
   "metadata": {},
   "outputs": [],
   "source": [
    "for j in range(len(row)):\n",
    "    b = row.count(row[j])"
   ]
  },
  {
   "cell_type": "code",
   "execution_count": 52,
   "metadata": {},
   "outputs": [
    {
     "data": {
      "text/plain": [
       "2"
      ]
     },
     "execution_count": 52,
     "metadata": {},
     "output_type": "execute_result"
    }
   ],
   "source": [
    "[2, 3, 4, 3].count(3)"
   ]
  },
  {
   "cell_type": "markdown",
   "metadata": {},
   "source": [
    "### Задача 10"
   ]
  },
  {
   "cell_type": "markdown",
   "metadata": {},
   "source": [
    "Дана база данных о продажах некоторого интернет-магазина. Каждая строка входного файла представляет собой запись вида Покупатель товар количество, где Покупатель — имя покупателя (строка без пробелов), товар — название товара (строка без пробелов), количество — количество приобретенных единиц товара. Создайте список всех покупателей, а для каждого покупателя подсчитайте количество приобретенных им единиц каждого вида товаров. Список покупателей, а также список товаров для каждого покупателя нужно выводить в лексикографическом порядке. (pythontutor.ru, занятие 11, «Продажи»)"
   ]
  },
  {
   "cell_type": "code",
   "execution_count": 76,
   "metadata": {},
   "outputs": [
    {
     "name": "stdout",
     "output_type": "stream",
     "text": [
      "Ivanov\n",
      "envelope 5\n",
      "marker 3\n",
      "paper 17\n",
      "Petrov\n",
      "envelope 20\n",
      "pens 5\n"
     ]
    }
   ],
   "source": [
    "db = \"\"\"Ivanov paper 10\n",
    "        Petrov pens 5\n",
    "        Ivanov marker 3\n",
    "        Ivanov paper 7\n",
    "        Petrov envelope 20\n",
    "        Ivanov envelope 5\"\"\".split('\\n')\n",
    "\n",
    "customers = {}\n",
    "for row in db:\n",
    "    name, good, amount = row.split()\n",
    "    if name in customers.keys():\n",
    "        if good in customers[name].keys():\n",
    "            customers[name][good] += int(amount) \n",
    "        else:\n",
    "            customers[name][good] = int(amount)\n",
    "    else:\n",
    "        customers[name] = {good: int(amount)}\n",
    "\n",
    "for name in sorted(customers.keys()):\n",
    "    print(name)\n",
    "    for good_name in sorted(customers[name].keys()):\n",
    "        print(good_name, customers[name][good_name])"
   ]
  },
  {
   "cell_type": "code",
   "execution_count": 63,
   "metadata": {},
   "outputs": [],
   "source": [
    "d = {'Ivanov': {'Pepsi': 10}}"
   ]
  },
  {
   "cell_type": "code",
   "execution_count": 74,
   "metadata": {},
   "outputs": [],
   "source": [
    "d['Petrov'] = {'envelope': 20}"
   ]
  },
  {
   "cell_type": "code",
   "execution_count": 75,
   "metadata": {},
   "outputs": [
    {
     "data": {
      "text/plain": [
       "{'Ivanov': {'Pepsi': 25, 'Cola': 10}, 'Petrov': {'envelope': 20}}"
      ]
     },
     "execution_count": 75,
     "metadata": {},
     "output_type": "execute_result"
    }
   ],
   "source": [
    "d"
   ]
  }
 ],
 "metadata": {
  "kernelspec": {
   "display_name": "Python 3",
   "language": "python",
   "name": "python3"
  },
  "language_info": {
   "codemirror_mode": {
    "name": "ipython",
    "version": 3
   },
   "file_extension": ".py",
   "mimetype": "text/x-python",
   "name": "python",
   "nbconvert_exporter": "python",
   "pygments_lexer": "ipython3",
   "version": "3.6.8"
  }
 },
 "nbformat": 4,
 "nbformat_minor": 2
}
