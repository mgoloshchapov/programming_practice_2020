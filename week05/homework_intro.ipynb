{
 "cells": [
  {
   "cell_type": "markdown",
   "metadata": {},
   "source": [
    "### 1\n",
    "\n",
    "Дано число n. С начала суток прошло n минут. Определите, сколько часов и минут будут показывать электронные часы в этот момент. Программа должна вывести два числа: количество часов (от 0 до 23) и количество минут (от 0 до 59). Учтите, что число n может быть больше, чем количество минут в сутках. (pythontutor.ru, 1 урок, электронные часы)"
   ]
  },
  {
   "cell_type": "code",
   "execution_count": 1,
   "metadata": {},
   "outputs": [
    {
     "name": "stdout",
     "output_type": "stream",
     "text": [
      "123\n",
      "hours: 2 minute 3\n"
     ]
    }
   ],
   "source": [
    "n = int(input())\n",
    "\n",
    "hour = (n // 60) % 24\n",
    "minute = n % 60\n",
    "\n",
    "print('hours: {}'.format(hour), 'minute {}'.format(minute))"
   ]
  },
  {
   "cell_type": "markdown",
   "metadata": {},
   "source": [
    "### 2\n",
    "\n",
    "Напишете программу, которая на вход берет строку text и целое число n, и выводит в слово Hello, а также n раз через запятую и пробел строку text. В конце выхода запятая не ставится. Например, для text = MIPT Students и n = 5 результат будет следующим: Hello, MIPT Students, MIPT Students, MIPT Students, MIPT Students, MIPT Students"
   ]
  },
  {
   "cell_type": "code",
   "execution_count": 2,
   "metadata": {},
   "outputs": [
    {
     "name": "stdout",
     "output_type": "stream",
     "text": [
      "5\n",
      "MIPT Students\n",
      "Hello, MIPT Students, MIPT Students, MIPT Students, MIPT Students, MIPT Students\n"
     ]
    }
   ],
   "source": [
    "n = int(input())\n",
    "text = str(input())\n",
    "print(\"Hello\" + (\", \" + text) * n)"
   ]
  },
  {
   "cell_type": "markdown",
   "metadata": {},
   "source": [
    "### 3\n",
    "\n",
    "Даны три числа. Выведите значение наименьшего из них. (pythontutor.ru, 2 урок, минимум из трех чисел)"
   ]
  },
  {
   "cell_type": "code",
   "execution_count": 3,
   "metadata": {},
   "outputs": [
    {
     "name": "stdout",
     "output_type": "stream",
     "text": [
      "2\n",
      "3\n",
      "4\n",
      "2\n"
     ]
    }
   ],
   "source": [
    "a, b, c = int(input()),int(input()),int(input())\n",
    "if c > b:\n",
    "    b, c = c, b\n",
    "if c > a:\n",
    "    a,c = c,a\n",
    "print(c)"
   ]
  },
  {
   "cell_type": "code",
   "execution_count": 5,
   "metadata": {},
   "outputs": [
    {
     "name": "stdout",
     "output_type": "stream",
     "text": [
      "2 3 4\n",
      "2\n"
     ]
    }
   ],
   "source": [
    "a = list(map(int, input().split()))\n",
    "print(min(a))"
   ]
  },
  {
   "cell_type": "markdown",
   "metadata": {},
   "source": [
    "### 4\n",
    "\n",
    "Длина Московской кольцевой автомобильной дороги —109 километров. Байкер Вася стартует с нулевого километра МКАД и едет со скоростью v километров в час. На какой отметке он остановится через t часов? Программа получает на вход значение v и t. Если v > 0, то Вася движется в положительном направлении по МКАД, если же значение v < 0, то в отрицательном. Программа должна вывести целое число от 0 до 108 — номер отметки, на которой остановится Вася. (pythontutor.ru, 3 урок, МКАД)"
   ]
  },
  {
   "cell_type": "code",
   "execution_count": 6,
   "metadata": {},
   "outputs": [
    {
     "name": "stdout",
     "output_type": "stream",
     "text": [
      "-1\n",
      "30\n",
      "79\n"
     ]
    }
   ],
   "source": [
    "v = int(input())\n",
    "t = int(input())\n",
    "\n",
    "print((v * t) % 109)"
   ]
  },
  {
   "cell_type": "markdown",
   "metadata": {},
   "source": [
    "### 5\n",
    "\n",
    "По данному натуральном n вычислите сумму 1! + 2! + 3! + ... + n!. В решении этой задачи можно использовать только один цикл. (pythontutor.ru, 4 урок, сумма факториалов)"
   ]
  },
  {
   "cell_type": "code",
   "execution_count": 7,
   "metadata": {},
   "outputs": [
    {
     "name": "stdout",
     "output_type": "stream",
     "text": [
      "3\n",
      "9\n"
     ]
    }
   ],
   "source": [
    "n = int(input())\n",
    "fact = 1\n",
    "sum_fact = 0\n",
    "\n",
    "for i in range(1, n + 1):\n",
    "    fact *= i\n",
    "    sum_fact += fact\n",
    "\n",
    "print(sum_fact)"
   ]
  },
  {
   "cell_type": "markdown",
   "metadata": {},
   "source": [
    "### 6\n",
    "\n",
    "Последовательность состоит из различных натуральных чисел и завершается числом 0. Определите значение второго по величине элемента в этой последовательности. Гарантируется, что в последовательности есть хотя бы два элемента. (pythontutor.ru, 6 урок, второй максимум)"
   ]
  },
  {
   "cell_type": "code",
   "execution_count": 8,
   "metadata": {},
   "outputs": [
    {
     "name": "stdout",
     "output_type": "stream",
     "text": [
      "2\n",
      "3\n",
      "4\n",
      "0\n",
      "3\n"
     ]
    }
   ],
   "source": [
    "x = int(input())\n",
    "max1 = max2 = 0\n",
    "while x!= 0:\n",
    "    x = int(input())\n",
    "    if x > max1:\n",
    "        max2 , max1 = max1, x\n",
    "    elif x > max2: \n",
    "        max2 = x\n",
    "print(max2)"
   ]
  },
  {
   "cell_type": "markdown",
   "metadata": {},
   "source": [
    "### 7\n",
    "\n",
    "Выведите все элементы списка с четными индексами (то есть lst[0], lst[2], lst[4], ...). (pythontutor.ru, 7 урок, четные индексы)"
   ]
  },
  {
   "cell_type": "code",
   "execution_count": 9,
   "metadata": {},
   "outputs": [
    {
     "name": "stdout",
     "output_type": "stream",
     "text": [
      "2 3 4 5\n",
      "2\n",
      "4\n"
     ]
    }
   ],
   "source": [
    "a = input().split()\n",
    "for i in range(0, len(a), 2):\n",
    "    print(a[i])"
   ]
  },
  {
   "cell_type": "markdown",
   "metadata": {},
   "source": [
    "#### 8 \n",
    "\n",
    "Выведите все четные элементы списка. При этом используйте цикл for, перебирающий элементы списка, а не их индексы! (pythontutor.ru, 7 урок, четные элементы)"
   ]
  },
  {
   "cell_type": "code",
   "execution_count": 10,
   "metadata": {},
   "outputs": [
    {
     "name": "stdout",
     "output_type": "stream",
     "text": [
      "3 4 5 6 2\n",
      "4\n",
      "6\n",
      "2\n"
     ]
    }
   ],
   "source": [
    "a = input().split()\n",
    "for i in a:\n",
    "    i = int(i)\n",
    "    if i % 2 == 0:\n",
    "        print(i)"
   ]
  },
  {
   "cell_type": "markdown",
   "metadata": {},
   "source": [
    "### 9 \n",
    "\n",
    "Даны четыре действительных числа: x1, y1, x2, y2. Напишите функцию distance(x1, y1, x2, y2), вычисляющая расстояние между точкой (x1,y1) и (x2,y2). Считайте четыре действительных числа и выведите результат работы этой функции. (pythontutor.ru, 8 урок, длина отрезка)"
   ]
  },
  {
   "cell_type": "code",
   "execution_count": 12,
   "metadata": {},
   "outputs": [
    {
     "name": "stdout",
     "output_type": "stream",
     "text": [
      "2\n",
      "3\n",
      "5\n",
      "6\n",
      "4.242640687119285\n"
     ]
    }
   ],
   "source": [
    "def distance(x1, y1, x2, y2):\n",
    "    \n",
    "    result = ((x2 - x1) ** 2 + (y2 - y1) ** 2) ** (0.5)\n",
    "    return result\n",
    "    \n",
    "x1 = float(input())\n",
    "y1 = float(input())\n",
    "x2 = float(input())\n",
    "y2 = float(input())\n",
    "print(distance(x1, y1, x2, y2))"
   ]
  }
 ],
 "metadata": {
  "kernelspec": {
   "display_name": "Python 3",
   "language": "python",
   "name": "python3"
  },
  "language_info": {
   "codemirror_mode": {
    "name": "ipython",
    "version": 3
   },
   "file_extension": ".py",
   "mimetype": "text/x-python",
   "name": "python",
   "nbconvert_exporter": "python",
   "pygments_lexer": "ipython3",
   "version": "3.6.8"
  }
 },
 "nbformat": 4,
 "nbformat_minor": 2
}
